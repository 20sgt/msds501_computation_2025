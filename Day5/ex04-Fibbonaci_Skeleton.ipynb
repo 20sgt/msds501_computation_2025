{
 "cells": [
  {
   "cell_type": "markdown",
   "id": "ee99465a",
   "metadata": {},
   "source": []
  },
  {
   "cell_type": "code",
   "execution_count": null,
   "id": "5394a117",
   "metadata": {},
   "outputs": [],
   "source": [
    "def fib_recursion(n):\n",
    "    "
   ]
  },
  {
   "cell_type": "code",
   "execution_count": null,
   "id": "e76b61bb",
   "metadata": {},
   "outputs": [],
   "source": [
    "def fib_iteration(n):\n",
    "    "
   ]
  }
 ],
 "metadata": {
  "language_info": {
   "name": "python"
  }
 },
 "nbformat": 4,
 "nbformat_minor": 5
}
