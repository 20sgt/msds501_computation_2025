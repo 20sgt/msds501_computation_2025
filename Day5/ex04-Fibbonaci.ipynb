{
 "cells": [
  {
   "cell_type": "markdown",
   "id": "ee99465a",
   "metadata": {},
   "source": []
  },
  {
   "cell_type": "code",
   "execution_count": null,
   "id": "5394a117",
   "metadata": {},
   "outputs": [],
   "source": [
    "def fib_recursion(n):\n",
    "    if(n == 0):\n",
    "        return 0\n",
    "    if(n == 1):\n",
    "        return 1\n",
    "    return fib_recursion(n-1) + fib_recursion(n-2)"
   ]
  },
  {
   "cell_type": "code",
   "execution_count": null,
   "id": "e76b61bb",
   "metadata": {},
   "outputs": [],
   "source": [
    "def fib_iteration(n):\n",
    "    if n == 0:\n",
    "        return 0\n",
    "    elif n == 1:\n",
    "        return 1\n",
    "\n",
    "    a, b = 0, 1  # a = F(0), b = F(1)\n",
    "    for i in range(2, n + 1):\n",
    "        a, b = b, a + b\n",
    "    return b"
   ]
  }
 ],
 "metadata": {
  "language_info": {
   "name": "python"
  }
 },
 "nbformat": 4,
 "nbformat_minor": 5
}
