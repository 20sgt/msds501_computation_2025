{
 "cells": [
  {
   "cell_type": "code",
   "execution_count": 19,
   "id": "c4a8f6d7",
   "metadata": {},
   "outputs": [],
   "source": [
    "counter = 0\n",
    "\n",
    "def stat(vals):\n",
    "    length = len(vals)\n",
    "    global counter\n",
    "    counter += length\n",
    "    print(length)\n",
    "    return min(vals), sum(vals)/length, max(vals)\n",
    "\n",
    "# print(length)\n",
    "# print(counter)"
   ]
  },
  {
   "cell_type": "code",
   "execution_count": 20,
   "id": "32274dc9",
   "metadata": {},
   "outputs": [
    {
     "name": "stdout",
     "output_type": "stream",
     "text": [
      "4\n",
      "2\n"
     ]
    },
    {
     "data": {
      "text/plain": [
       "(5, 5.5, 6)"
      ]
     },
     "execution_count": 20,
     "metadata": {},
     "output_type": "execute_result"
    }
   ],
   "source": [
    "stat([1,2,3,4])\n",
    "stat([5,6])"
   ]
  },
  {
   "cell_type": "code",
   "execution_count": 21,
   "id": "9d34679b",
   "metadata": {},
   "outputs": [
    {
     "data": {
      "text/plain": [
       "6"
      ]
     },
     "execution_count": 21,
     "metadata": {},
     "output_type": "execute_result"
    }
   ],
   "source": [
    "counter"
   ]
  },
  {
   "cell_type": "code",
   "execution_count": null,
   "id": "35cf8d2d",
   "metadata": {},
   "outputs": [],
   "source": []
  }
 ],
 "metadata": {
  "kernelspec": {
   "display_name": "base",
   "language": "python",
   "name": "python3"
  },
  "language_info": {
   "codemirror_mode": {
    "name": "ipython",
    "version": 3
   },
   "file_extension": ".py",
   "mimetype": "text/x-python",
   "name": "python",
   "nbconvert_exporter": "python",
   "pygments_lexer": "ipython3",
   "version": "3.13.5"
  }
 },
 "nbformat": 4,
 "nbformat_minor": 5
}
