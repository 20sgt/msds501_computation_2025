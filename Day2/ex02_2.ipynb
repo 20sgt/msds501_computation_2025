{
 "cells": [
  {
   "cell_type": "code",
   "execution_count": 3,
   "id": "e731ca35",
   "metadata": {},
   "outputs": [
    {
     "name": "stdout",
     "output_type": "stream",
     "text": [
      "MSDS 501 - Computation for Data Science\n",
      "MSDS 504 - Review Probability and Stats\n"
     ]
    }
   ],
   "source": [
    "def print_all(var):\n",
    "    for key, value in var.items():\n",
    "        print(f'''{key} - {value}''')\n",
    "\n",
    "def main():\n",
    "    classes = {\"MSDS 501\":\"Computation for Data Science\",\n",
    "               \"MSDS 504\":\"Review Probability and Stats\"}\n",
    "    print_all(classes)\n",
    "\n",
    "if __name__=='__main__':\n",
    "    main()"
   ]
  }
 ],
 "metadata": {
  "kernelspec": {
   "display_name": "base",
   "language": "python",
   "name": "python3"
  },
  "language_info": {
   "codemirror_mode": {
    "name": "ipython",
    "version": 3
   },
   "file_extension": ".py",
   "mimetype": "text/x-python",
   "name": "python",
   "nbconvert_exporter": "python",
   "pygments_lexer": "ipython3",
   "version": "3.13.5"
  }
 },
 "nbformat": 4,
 "nbformat_minor": 5
}
