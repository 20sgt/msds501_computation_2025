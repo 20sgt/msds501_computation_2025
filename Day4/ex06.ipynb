{
 "cells": [
  {
   "cell_type": "markdown",
   "id": "eae86260",
   "metadata": {},
   "source": [
    "Assume that `names`,`midterm`, and `final` are equal-length lists, where each includes a corresponding student's name, midterm score and final score.\n",
    "\n",
    "Create an dictionary that includes name as a key, where its value is a tuple of (average, letter_grade).\n",
    "\n",
    "The letter grade will be given as the following\n",
    "<ul>\n",
    "<li> A, if the average is higher than or equal to 90 </li>\n",
    "<li> B, if the average is higher than or equal to 80 </li>\n",
    "<li> C, if the average is higher than or equal to 70 </li>\n",
    "<li> otherwise, F </li>\n",
    "</ul>"
   ]
  },
  {
   "cell_type": "code",
   "execution_count": 20,
   "id": "ff38db9b",
   "metadata": {},
   "outputs": [],
   "source": [
    "names   = ['Bob', 'Alice', 'Charlie', 'Dana', 'Eli']\n",
    "midterm = [82, 91, 70, 88, 73]\n",
    "final   = [94, 85, 80, 90, 79]"
   ]
  },
  {
   "cell_type": "code",
   "execution_count": 21,
   "id": "53f74eab",
   "metadata": {},
   "outputs": [],
   "source": [
    "grades = dict()\n",
    "for name, midterm, final in zip(names, midterm, final):\n",
    "    average = (midterm + final)/2\n",
    "    if(average >= 90):\n",
    "        grade='A'\n",
    "    elif(average >= 80):\n",
    "        grade='B'\n",
    "    elif(average >= 70):\n",
    "        grade='C'\n",
    "    else:\n",
    "        grade='F'\n",
    "    grades[name]=(average, grade)\n"
   ]
  },
  {
   "cell_type": "code",
   "execution_count": 22,
   "id": "ee67d452",
   "metadata": {},
   "outputs": [
    {
     "data": {
      "text/plain": [
       "{'Bob': (88.0, 'B'),\n",
       " 'Alice': (88.0, 'B'),\n",
       " 'Charlie': (75.0, 'C'),\n",
       " 'Dana': (89.0, 'B'),\n",
       " 'Eli': (76.0, 'C')}"
      ]
     },
     "execution_count": 22,
     "metadata": {},
     "output_type": "execute_result"
    }
   ],
   "source": [
    "grades"
   ]
  },
  {
   "cell_type": "markdown",
   "id": "b2472e6c",
   "metadata": {},
   "source": [
    "<b> Extra </b>\n",
    "\n",
    "Create a leader board that has a ranking, name, average, and grade\n",
    "- If grades are same, order student by name (alphabetically)"
   ]
  },
  {
   "cell_type": "code",
   "execution_count": 23,
   "id": "a535a113",
   "metadata": {},
   "outputs": [],
   "source": [
    "grade_list = [[name, grades[name][0], grades[name][1]] for name in grades]\n",
    "grade_list.sort(key=(lambda x : (-x[1], x[0])))"
   ]
  },
  {
   "cell_type": "code",
   "execution_count": null,
   "id": "839a2dbc",
   "metadata": {},
   "outputs": [],
   "source": [
    "leaderboard = { i[0] : i[1] for i in enumerate(grade_list, start=1)}"
   ]
  },
  {
   "cell_type": "code",
   "execution_count": 38,
   "id": "0ed14ca2",
   "metadata": {},
   "outputs": [
    {
     "data": {
      "text/plain": [
       "{1: ['Dana', 89.0, 'B'],\n",
       " 2: ['Alice', 88.0, 'B'],\n",
       " 3: ['Bob', 88.0, 'B'],\n",
       " 4: ['Eli', 76.0, 'C'],\n",
       " 5: ['Charlie', 75.0, 'C']}"
      ]
     },
     "execution_count": 38,
     "metadata": {},
     "output_type": "execute_result"
    }
   ],
   "source": [
    "leaderboard"
   ]
  },
  {
   "cell_type": "code",
   "execution_count": null,
   "id": "792d335c",
   "metadata": {},
   "outputs": [],
   "source": []
  }
 ],
 "metadata": {
  "kernelspec": {
   "display_name": "base",
   "language": "python",
   "name": "python3"
  },
  "language_info": {
   "codemirror_mode": {
    "name": "ipython",
    "version": 3
   },
   "file_extension": ".py",
   "mimetype": "text/x-python",
   "name": "python",
   "nbconvert_exporter": "python",
   "pygments_lexer": "ipython3",
   "version": "3.13.5"
  }
 },
 "nbformat": 4,
 "nbformat_minor": 5
}
