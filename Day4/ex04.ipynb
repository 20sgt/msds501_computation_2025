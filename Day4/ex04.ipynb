{
 "cells": [
  {
   "cell_type": "markdown",
   "id": "610bcba6",
   "metadata": {},
   "source": [
    "<ol>\n",
    "<li>Using ```input(\"message\")``` take a user input with a message \"Enter a positive number (0 to stop): \"</li>\n",
    "<li>If it is a prime number, print \"user_input is a prime number\" </li>\n",
    "<li>If it is not a prime number, print \"user_input is not a prime number\" </li>\n",
    "<li>Repeat this until the user enters 0</li>\n",
    "<li>Make sure the user input is in an expected type</li>\n",
    "</ol>"
   ]
  },
  {
   "cell_type": "code",
   "execution_count": 7,
   "id": "cee6321e",
   "metadata": {},
   "outputs": [
    {
     "name": "stdout",
     "output_type": "stream",
     "text": [
      "Invalid input - this should be a positive number\n",
      "Done\n"
     ]
    }
   ],
   "source": [
    "while True:\n",
    "    try:\n",
    "        n = int(input(\"Enter a positive number (0 to stop): \"))\n",
    "    except ValueError:\n",
    "        print(\"Invalid input - this should be a positive number\")\n",
    "    \n",
    "    if(n < 0):\n",
    "            print(\"Invalid input - this should be a positive number\")\n",
    "            continue\n",
    "\n",
    "    elif n == 0:\n",
    "        print(\"Done\")\n",
    "        break\n",
    "\n",
    "    # Check if the number is prime\n",
    "    if n < 2:\n",
    "        print(f\"{n} is not a prime number\")  # Numbers less than 2 are not prime\n",
    "        continue  # Skips the rest and continues to the next iteration.\n",
    "    for i in range(2, n):\n",
    "        if n % i == 0:\n",
    "            # Not a prime number\n",
    "            print(f\"{n} is not a prime number\")\n",
    "            break # Escape from the current for loop\n",
    "    else:\n",
    "        # for...else: No break means it's prime\n",
    "        print(f\"{n} is a prime number\")"
   ]
  },
  {
   "cell_type": "code",
   "execution_count": null,
   "id": "1f16c75d",
   "metadata": {},
   "outputs": [],
   "source": []
  }
 ],
 "metadata": {
  "kernelspec": {
   "display_name": "base",
   "language": "python",
   "name": "python3"
  },
  "language_info": {
   "codemirror_mode": {
    "name": "ipython",
    "version": 3
   },
   "file_extension": ".py",
   "mimetype": "text/x-python",
   "name": "python",
   "nbconvert_exporter": "python",
   "pygments_lexer": "ipython3",
   "version": "3.13.5"
  }
 },
 "nbformat": 4,
 "nbformat_minor": 5
}
