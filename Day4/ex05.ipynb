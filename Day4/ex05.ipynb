{
 "cells": [
  {
   "cell_type": "markdown",
   "id": "63920ea7",
   "metadata": {},
   "source": [
    "You are given two 2D integer arrays, `items1` and `items2`, representing two sets of items. Each array items has the following properties:\n",
    "- `items[i] = [value_i, weight_i]` where `value_i` represents the value and weight_i represents the weight of the ith item.\n",
    "    - The value of each item in items is unique.\n",
    "\n",
    "Return a 2D integer array ret where `ret[i] = [value_i, weight_i]`, with `weight_i` being the sum of weights of all items with value `value_i.` (Optional : Sort by values.)\n",
    "- Example:\n",
    "    - Input: `items1 = [[1,1],[4,5],[3,8]], items2 = [[3,1],[1,5]]`\n",
    "    - Output: `[[1,6],[3,9],[4,5]]`"
   ]
  },
  {
   "cell_type": "code",
   "execution_count": 1,
   "id": "1c1a274c",
   "metadata": {},
   "outputs": [],
   "source": [
    "items1 = [[1,1],[4,5],[3,8]]\n",
    "items2 = [[3,1],[1,5]]"
   ]
  },
  {
   "cell_type": "code",
   "execution_count": 2,
   "id": "e61aabfd",
   "metadata": {},
   "outputs": [],
   "source": [
    "output = dict()\n",
    "\n",
    "for item1 in items1:\n",
    "    output[item1[0]] = item1[1]\n",
    "\n",
    "for item2 in items2:\n",
    "    if(item2[0] not in output):\n",
    "        output[item2[0]] = item2[1]\n",
    "    else:\n",
    "        output[item2[0]] += item2[1]\n",
    "\n",
    "output_list = [ [item, output[item]] for item in output] \n",
    "output_list.sort(key = lambda x:x[0])        "
   ]
  },
  {
   "cell_type": "code",
   "execution_count": 3,
   "id": "78ef2bad",
   "metadata": {},
   "outputs": [
    {
     "data": {
      "text/plain": [
       "[[1, 6], [3, 9], [4, 5]]"
      ]
     },
     "execution_count": 3,
     "metadata": {},
     "output_type": "execute_result"
    }
   ],
   "source": [
    "output_list"
   ]
  },
  {
   "cell_type": "markdown",
   "id": "8559a624",
   "metadata": {},
   "source": [
    "The following does the same thing, but much slower as it includes double-for-loops."
   ]
  },
  {
   "cell_type": "code",
   "execution_count": 2,
   "id": "ab86e1fb",
   "metadata": {},
   "outputs": [
    {
     "data": {
      "text/plain": [
       "[[1, 6], [3, 9], [4, 5]]"
      ]
     },
     "execution_count": 2,
     "metadata": {},
     "output_type": "execute_result"
    }
   ],
   "source": [
    "output_list = list()\n",
    "for item1 in items1:\n",
    "    for item2 in items2:\n",
    "        if(item1[0] == item2[0]):\n",
    "            output_list.append([item1[0], item1[1]+item2[1]])\n",
    "            break\n",
    "    else:\n",
    "        output_list.append(item1)\n",
    "\n",
    "for item2 in items2:\n",
    "    for i in output_list:\n",
    "        if( i[0] == item2[0]):\n",
    "            break\n",
    "    else:\n",
    "        output_list.append(item2) \n",
    "output_list.sort(key = lambda x : x[0])\n",
    "output_list"
   ]
  },
  {
   "cell_type": "code",
   "execution_count": null,
   "id": "060685c0",
   "metadata": {},
   "outputs": [],
   "source": []
  }
 ],
 "metadata": {
  "kernelspec": {
   "display_name": "base",
   "language": "python",
   "name": "python3"
  },
  "language_info": {
   "codemirror_mode": {
    "name": "ipython",
    "version": 3
   },
   "file_extension": ".py",
   "mimetype": "text/x-python",
   "name": "python",
   "nbconvert_exporter": "python",
   "pygments_lexer": "ipython3",
   "version": "3.13.5"
  }
 },
 "nbformat": 4,
 "nbformat_minor": 5
}
