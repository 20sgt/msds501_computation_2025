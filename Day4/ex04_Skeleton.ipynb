{
 "cells": [
  {
   "cell_type": "markdown",
   "id": "610bcba6",
   "metadata": {},
   "source": [
    "\n",
    "- Using ```input(\"message\")``` take a user input with a message \"`Enter a positive number (0 to stop): `\"\n",
    "- If it is a prime number, print \"`user_input is a prime number`\"\n",
    "- If it is not a prime number, print \"`user_input is not a prime number`\"\n",
    "- Repeat this until the user enters 0\n",
    "- Make sure the user input is in an expected type\n"
   ]
  },
  {
   "cell_type": "code",
   "execution_count": null,
   "id": "87335bab",
   "metadata": {},
   "outputs": [],
   "source": [
    "input(\"Enter a positive number (0 to stop): \")"
   ]
  },
  {
   "cell_type": "code",
   "execution_count": null,
   "id": "1f16c75d",
   "metadata": {},
   "outputs": [],
   "source": []
  }
 ],
 "metadata": {
  "kernelspec": {
   "display_name": "base",
   "language": "python",
   "name": "python3"
  },
  "language_info": {
   "codemirror_mode": {
    "name": "ipython",
    "version": 3
   },
   "file_extension": ".py",
   "mimetype": "text/x-python",
   "name": "python",
   "nbconvert_exporter": "python",
   "pygments_lexer": "ipython3",
   "version": "3.13.5"
  }
 },
 "nbformat": 4,
 "nbformat_minor": 5
}
