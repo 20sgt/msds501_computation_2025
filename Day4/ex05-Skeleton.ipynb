{
 "cells": [
  {
   "cell_type": "markdown",
   "id": "63920ea7",
   "metadata": {},
   "source": [
    "You are given two 2D integer arrays, `items1` and `items2`, representing two sets of items. Each array items has the following properties:\n",
    "- `items[i] = [value_i, weight_i]` where `value_i` represents the value and weight_i represents the weight of the ith item.\n",
    "    - The value of each item in items is unique.\n",
    "\n",
    "Return a 2D integer array ret where `ret[i] = [value_i, weight_i]`, with `weight_i` being the sum of weights of all items with value `value_i.` (Optional : Sort by values.)\n",
    "- Example:\n",
    "    - Input: `items1 = [[1,1],[4,5],[3,8]], items2 = [[3,1],[1,5]]`\n",
    "    - Output: `[[1,6],[3,9],[4,5]]`"
   ]
  },
  {
   "cell_type": "code",
   "execution_count": 1,
   "id": "1c1a274c",
   "metadata": {},
   "outputs": [],
   "source": [
    "items1 = [[1,1],[4,5],[3,8]]\n",
    "items2 = [[3,1],[1,5]]"
   ]
  },
  {
   "cell_type": "code",
   "execution_count": null,
   "id": "060685c0",
   "metadata": {},
   "outputs": [],
   "source": []
  }
 ],
 "metadata": {
  "kernelspec": {
   "display_name": "base",
   "language": "python",
   "name": "python3"
  },
  "language_info": {
   "codemirror_mode": {
    "name": "ipython",
    "version": 3
   },
   "file_extension": ".py",
   "mimetype": "text/x-python",
   "name": "python",
   "nbconvert_exporter": "python",
   "pygments_lexer": "ipython3",
   "version": "3.13.5"
  }
 },
 "nbformat": 4,
 "nbformat_minor": 5
}
