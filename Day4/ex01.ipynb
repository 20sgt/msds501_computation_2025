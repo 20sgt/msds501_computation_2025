{
 "cells": [
  {
   "cell_type": "markdown",
   "id": "5dc19910",
   "metadata": {},
   "source": [
    "For the given \"classes\"\n",
    "\n",
    "<ol>\n",
    "<li> print the list of (class_id, instructor) </li>\n",
    "<li> print the list including unique classrooms in ascending order </li>\n",
    "</ol>\n",
    "\n",
    "<b>Example</b>\n",
    "```\n",
    "[('msds501', 'Diane Woodbridge'), ('msds502', 'Robert Clements')]\n",
    "[144, 145, 146, 527, 529]\n",
    "```"
   ]
  },
  {
   "cell_type": "code",
   "execution_count": null,
   "id": "fa7afffc",
   "metadata": {},
   "outputs": [],
   "source": [
    "classes = {\"msds501\":{\"instructor\":\"Diane Woodbridge\", \"classroom\": [144, 145, 146, 527]},\n",
    "        \"msds502\":{\"instructor\":\"Robert Clements\", \"classroom\": [527, 529]}}"
   ]
  },
  {
   "cell_type": "code",
   "execution_count": null,
   "id": "b292d31c",
   "metadata": {},
   "outputs": [
    {
     "name": "stdout",
     "output_type": "stream",
     "text": [
      "[('msds502', 'Robert Clements'), ('msds501', 'Diane Woodbridge')]\n",
      "[144, 145, 146, 527, 529]\n"
     ]
    }
   ],
   "source": [
    "class_instructor = list()\n",
    "classrooms = list()\n",
    "for key in classes: # iterate through dictionary\n",
    "    class_instructor.append((key, classes[key]['instructor'])) # add tuples into the list\n",
    "    classrooms += classes[key]['classroom'] # add a list to a list\n",
    "classrooms_unique = list(set(classrooms)) # Set will eliminate duplicates\n",
    "class_instructor.sort() # list is multable\n",
    "classrooms_unique.sort()\n",
    "print(class_instructor)\n",
    "print(classrooms_unique)"
   ]
  },
  {
   "cell_type": "code",
   "execution_count": null,
   "id": "87821c73",
   "metadata": {},
   "outputs": [],
   "source": []
  }
 ],
 "metadata": {
  "kernelspec": {
   "display_name": "base",
   "language": "python",
   "name": "python3"
  },
  "language_info": {
   "codemirror_mode": {
    "name": "ipython",
    "version": 3
   },
   "file_extension": ".py",
   "mimetype": "text/x-python",
   "name": "python",
   "nbconvert_exporter": "python",
   "pygments_lexer": "ipython3",
   "version": "3.13.5"
  }
 },
 "nbformat": 4,
 "nbformat_minor": 5
}
